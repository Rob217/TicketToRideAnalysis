{
 "cells": [
  {
   "cell_type": "markdown",
   "metadata": {},
   "source": [
    "# Analyse network\n",
    "\n",
    "In this notebook, the shortest distance between every pair of cities on the Ticket to Ride map is calculated. \n",
    "To do this we employ [Dijkstra's algorithm](https://github.com/ahojukka5/Dijkstra/blob/master/dijkstra/dijkstra.py).\n",
    "\n",
    "Using the shortest path information, we then calculate which connections are in the n shortest paths, and sum the number of paths going through each connection. \n",
    "\n",
    "This gives a heat map of the connections, showing how many routes are likely to go through them."
   ]
  },
  {
   "cell_type": "code",
   "execution_count": 13,
   "metadata": {},
   "outputs": [],
   "source": [
    "# setup modules\n",
    "import os\n",
    "import pandas as pd\n",
    "import json\n",
    "from collections import defaultdict\n",
    "from pprint import pprint\n",
    "import sys\n",
    "import heapq\n",
    "import matplotlib.pyplot as plt\n",
    "import matplotlib as mpl\n",
    "import numpy as np\n",
    "\n",
    "if os.path.basename(os.getcwd()) not in 'bin':\n",
    "    raise EnvironmentError('Need to ensure that cwd is \"bin\"')\n",
    "\n",
    "data_dir = os.path.join('..', 'data', 'USA')"
   ]
  },
  {
   "cell_type": "code",
   "execution_count": 14,
   "metadata": {},
   "outputs": [],
   "source": [
    "# loading data and pre-processing\n",
    "with open(os.path.join(data_dir, 'city_locations.json'), 'r') as city_file:\n",
    "    city_dict = json.load(city_file) # {'city_name' : [x_pos, y_pos]}\n",
    "cities = set(city_dict.keys())\n",
    "n_cities = len(cities)\n",
    "    \n",
    "connections_df = pd.read_csv(os.path.join(data_dir, 'routes.csv')) # [City A, City B, Distance, Color]\n",
    "n_connections = len(connections_df.index)\n",
    "\n",
    "connections = defaultdict(list) # keys = cityA, values = (city_2)\n",
    "for ind, city_A, city_B, dist, col in connections_df.itertuples():\n",
    "    connections[city_A].append((city_B, dist))\n",
    "    connections[city_B].append((city_A, dist))"
   ]
  },
  {
   "cell_type": "markdown",
   "metadata": {},
   "source": [
    "## Find shortest distance between each pair of cities (Dijkstra's algorithm)"
   ]
  },
  {
   "cell_type": "code",
   "execution_count": 15,
   "metadata": {},
   "outputs": [],
   "source": [
    "distances = dict()\n",
    "    \n",
    "for start in cities:\n",
    "    distances[start] = dict()\n",
    "    for city in cities:\n",
    "        if city == start:\n",
    "            distances[start][city] = 0\n",
    "        else:\n",
    "            distances[start][city] = sys.maxsize\n",
    "\n",
    "    curr_city = start\n",
    "    unvisited = distances[start].copy()\n",
    "\n",
    "    while True:\n",
    "        del unvisited[curr_city]\n",
    "\n",
    "        for next_city, distance in connections[curr_city]:\n",
    "            if next_city in unvisited:\n",
    "                distances[start][next_city] = min(distances[start][next_city], distances[start][curr_city] + distance)\n",
    "                unvisited[next_city] = distances[start][next_city]\n",
    "\n",
    "        if len(unvisited) == 0:\n",
    "            break\n",
    "\n",
    "        curr_city = min(unvisited, key=unvisited.get)"
   ]
  },
  {
   "cell_type": "markdown",
   "metadata": {},
   "source": [
    "## Find n shortest routes to satisfy each ticket"
   ]
  },
  {
   "cell_type": "code",
   "execution_count": 16,
   "metadata": {},
   "outputs": [],
   "source": [
    "tickets_df = pd.read_csv(os.path.join(data_dir, 'tickets.csv'))\n",
    "\n",
    "n_visited = [0 for _ in range(n_connections)]\n",
    "\n",
    "for i_ticket, start, end, reward in tickets_df.itertuples():\n",
    "    costs = defaultdict(set)\n",
    "    for i_conn, city_A, city_B, dist, col in connections_df.itertuples():\n",
    "        cost = min(distances[start][city_A] + distances[end][city_B],\n",
    "                   distances[start][city_B] + distances[end][city_A]) + dist\n",
    "        costs[cost].add(i_conn)\n",
    "    \n",
    "    n_include = 5\n",
    "    cost_vals = heapq.nsmallest(n_include, costs.keys())\n",
    "    \n",
    "    for cost in cost_vals:\n",
    "        for i_conn in costs[cost]:\n",
    "            n_visited[i_conn] += 1\n",
    "    \n",
    "connections_li = connections_df.values.tolist()\n",
    "sorted_connections = [connections_li[i] for i in np.argsort(n_visited)]\n",
    "# pprint(sorted_connections)"
   ]
  },
  {
   "cell_type": "markdown",
   "metadata": {},
   "source": [
    "## Plotting\n",
    "Plot histogram and colormap showing number of routes going through each connection."
   ]
  },
  {
   "cell_type": "code",
   "execution_count": null,
   "metadata": {},
   "outputs": [],
   "source": [
    "fig, ax = plt.subplots()\n",
    "mpl.rcParams['figure.dpi'] = 100\n",
    "\n",
    "ax.hist(n_visited, np.arange(-0.5, max(n_visited) + 0.5))\n",
    "ax.set_xlabel('Number of tickets going through route')\n",
    "ax.set_ylabel('Number of routes')\n",
    "plt.savefig(os.path.join('..', 'plots', 'hist_{}_shortest.png'.format(n_include)))\n",
    "plt.show()"
   ]
  },
  {
   "cell_type": "code",
   "execution_count": null,
   "metadata": {},
   "outputs": [],
   "source": [
    "fig, ax = plt.subplots()\n",
    "mpl.rcParams['figure.dpi'] = 200\n",
    "\n",
    "# print map image\n",
    "img = plt.imread(os.path.join('..','data','USA','USA_map.jpg'))\n",
    "plt.imshow(img, alpha=0.5)\n",
    "h, w, z = np.shape(img)\n",
    "plt.axis('off')\n",
    "\n",
    "min_visited = min(n_visited)\n",
    "max_visited = max(n_visited)\n",
    "\n",
    "cmap = plt.cm.get_cmap('cool', 50)\n",
    "norm = mpl.colors.Normalize(vmin=0,vmax=1)\n",
    "sm = plt.cm.ScalarMappable(cmap=cmap, norm=norm)\n",
    "sm.set_array([])\n",
    "cbar = plt.colorbar(sm, ticks=[0, 1], \n",
    "                    boundaries=np.linspace(0, 1, 100))\n",
    "cbar.ax.set_yticklabels([str(min_visited), str(max_visited)], rotation='vertical')\n",
    "cbar.ax.set_ylabel(r'Route usage')\n",
    "    \n",
    "for ind, city_1, city_2, dist, col in connections_df.itertuples():\n",
    "    x1, y1 = city_dict[city_1]\n",
    "    x2, y2 = city_dict[city_2]\n",
    "    col = cmap((n_visited[ind] - min_visited) / (max_visited - min_visited))\n",
    "    plt.plot([x1*w, x2*w], [h - y1*h, h - y2*h], color = col, linewidth = 5)\n",
    "    \n",
    "plt.title('Including {} shortest paths'.format(n_include))\n",
    "plt.savefig(os.path.join('..', 'plots', 'heat_map_{}_shortest.png'.format(n_include)))\n",
    "\n",
    "plt.show()"
   ]
  },
  {
   "cell_type": "code",
   "execution_count": null,
   "metadata": {},
   "outputs": [],
   "source": []
  },
  {
   "cell_type": "code",
   "execution_count": null,
   "metadata": {},
   "outputs": [],
   "source": []
  },
  {
   "cell_type": "code",
   "execution_count": null,
   "metadata": {},
   "outputs": [],
   "source": []
  }
 ],
 "metadata": {
  "kernelspec": {
   "display_name": "Python 3",
   "language": "python",
   "name": "python3"
  },
  "language_info": {
   "codemirror_mode": {
    "name": "ipython",
    "version": 3
   },
   "file_extension": ".py",
   "mimetype": "text/x-python",
   "name": "python",
   "nbconvert_exporter": "python",
   "pygments_lexer": "ipython3",
   "version": "3.8.3"
  }
 },
 "nbformat": 4,
 "nbformat_minor": 4
}
